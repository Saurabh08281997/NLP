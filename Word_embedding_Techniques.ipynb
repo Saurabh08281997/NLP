{
  "cells": [
    {
      "cell_type": "markdown",
      "metadata": {
        "id": "view-in-github",
        "colab_type": "text"
      },
      "source": [
        "<a href=\"https://colab.research.google.com/github/Saurabh08281997/NLP/blob/main/Word_embedding_Techniques.ipynb\" target=\"_parent\"><img src=\"https://colab.research.google.com/assets/colab-badge.svg\" alt=\"Open In Colab\"/></a>"
      ]
    },
    {
      "cell_type": "markdown",
      "metadata": {
        "id": "eHNf7J680XF-"
      },
      "source": [
        "### Word Embedding Techniques using Embedding Layer in Keras"
      ]
    },
    {
      "cell_type": "code",
      "execution_count": 1,
      "metadata": {
        "id": "PEsK0_yl0XGB"
      },
      "outputs": [],
      "source": [
        "### Libraries USed Tensorflow> 2.0  and keras"
      ]
    },
    {
      "cell_type": "code",
      "execution_count": 2,
      "metadata": {
        "colab": {
          "base_uri": "https://localhost:8080/"
        },
        "id": "pslw1Ya90XGC",
        "outputId": "9ffc57b5-3775-4137-a0d1-87fd8a8e0a48"
      },
      "outputs": [
        {
          "output_type": "stream",
          "name": "stdout",
          "text": [
            "Looking in indexes: https://pypi.org/simple, https://us-python.pkg.dev/colab-wheels/public/simple/\n",
            "Collecting tensorflow-gpu\n",
            "  Downloading tensorflow_gpu-2.9.1-cp37-cp37m-manylinux_2_17_x86_64.manylinux2014_x86_64.whl (511.7 MB)\n",
            "\u001b[K     |████████████████████████████████| 511.7 MB 6.6 kB/s \n",
            "\u001b[?25hCollecting tensorboard<2.10,>=2.9\n",
            "  Downloading tensorboard-2.9.1-py3-none-any.whl (5.8 MB)\n",
            "\u001b[K     |████████████████████████████████| 5.8 MB 55.7 MB/s \n",
            "\u001b[?25hRequirement already satisfied: opt-einsum>=2.3.2 in /usr/local/lib/python3.7/dist-packages (from tensorflow-gpu) (3.3.0)\n",
            "Collecting tensorflow-estimator<2.10.0,>=2.9.0rc0\n",
            "  Downloading tensorflow_estimator-2.9.0-py2.py3-none-any.whl (438 kB)\n",
            "\u001b[K     |████████████████████████████████| 438 kB 67.3 MB/s \n",
            "\u001b[?25hRequirement already satisfied: termcolor>=1.1.0 in /usr/local/lib/python3.7/dist-packages (from tensorflow-gpu) (1.1.0)\n",
            "Collecting gast<=0.4.0,>=0.2.1\n",
            "  Downloading gast-0.4.0-py3-none-any.whl (9.8 kB)\n",
            "Requirement already satisfied: grpcio<2.0,>=1.24.3 in /usr/local/lib/python3.7/dist-packages (from tensorflow-gpu) (1.47.0)\n",
            "Requirement already satisfied: google-pasta>=0.1.1 in /usr/local/lib/python3.7/dist-packages (from tensorflow-gpu) (0.2.0)\n",
            "Requirement already satisfied: tensorflow-io-gcs-filesystem>=0.23.1 in /usr/local/lib/python3.7/dist-packages (from tensorflow-gpu) (0.26.0)\n",
            "Requirement already satisfied: keras-preprocessing>=1.1.1 in /usr/local/lib/python3.7/dist-packages (from tensorflow-gpu) (1.1.2)\n",
            "Collecting flatbuffers<2,>=1.12\n",
            "  Downloading flatbuffers-1.12-py2.py3-none-any.whl (15 kB)\n",
            "Requirement already satisfied: typing-extensions>=3.6.6 in /usr/local/lib/python3.7/dist-packages (from tensorflow-gpu) (4.1.1)\n",
            "Requirement already satisfied: absl-py>=1.0.0 in /usr/local/lib/python3.7/dist-packages (from tensorflow-gpu) (1.1.0)\n",
            "Requirement already satisfied: six>=1.12.0 in /usr/local/lib/python3.7/dist-packages (from tensorflow-gpu) (1.15.0)\n",
            "Requirement already satisfied: h5py>=2.9.0 in /usr/local/lib/python3.7/dist-packages (from tensorflow-gpu) (3.1.0)\n",
            "Requirement already satisfied: protobuf<3.20,>=3.9.2 in /usr/local/lib/python3.7/dist-packages (from tensorflow-gpu) (3.17.3)\n",
            "Requirement already satisfied: astunparse>=1.6.0 in /usr/local/lib/python3.7/dist-packages (from tensorflow-gpu) (1.6.3)\n",
            "Collecting keras<2.10.0,>=2.9.0rc0\n",
            "  Downloading keras-2.9.0-py2.py3-none-any.whl (1.6 MB)\n",
            "\u001b[K     |████████████████████████████████| 1.6 MB 54.8 MB/s \n",
            "\u001b[?25hRequirement already satisfied: setuptools in /usr/local/lib/python3.7/dist-packages (from tensorflow-gpu) (57.4.0)\n",
            "Requirement already satisfied: packaging in /usr/local/lib/python3.7/dist-packages (from tensorflow-gpu) (21.3)\n",
            "Requirement already satisfied: libclang>=13.0.0 in /usr/local/lib/python3.7/dist-packages (from tensorflow-gpu) (14.0.1)\n",
            "Requirement already satisfied: numpy>=1.20 in /usr/local/lib/python3.7/dist-packages (from tensorflow-gpu) (1.21.6)\n",
            "Requirement already satisfied: wrapt>=1.11.0 in /usr/local/lib/python3.7/dist-packages (from tensorflow-gpu) (1.14.1)\n",
            "Requirement already satisfied: wheel<1.0,>=0.23.0 in /usr/local/lib/python3.7/dist-packages (from astunparse>=1.6.0->tensorflow-gpu) (0.37.1)\n",
            "Requirement already satisfied: cached-property in /usr/local/lib/python3.7/dist-packages (from h5py>=2.9.0->tensorflow-gpu) (1.5.2)\n",
            "Requirement already satisfied: tensorboard-plugin-wit>=1.6.0 in /usr/local/lib/python3.7/dist-packages (from tensorboard<2.10,>=2.9->tensorflow-gpu) (1.8.1)\n",
            "Requirement already satisfied: werkzeug>=1.0.1 in /usr/local/lib/python3.7/dist-packages (from tensorboard<2.10,>=2.9->tensorflow-gpu) (1.0.1)\n",
            "Requirement already satisfied: tensorboard-data-server<0.7.0,>=0.6.0 in /usr/local/lib/python3.7/dist-packages (from tensorboard<2.10,>=2.9->tensorflow-gpu) (0.6.1)\n",
            "Requirement already satisfied: requests<3,>=2.21.0 in /usr/local/lib/python3.7/dist-packages (from tensorboard<2.10,>=2.9->tensorflow-gpu) (2.23.0)\n",
            "Requirement already satisfied: markdown>=2.6.8 in /usr/local/lib/python3.7/dist-packages (from tensorboard<2.10,>=2.9->tensorflow-gpu) (3.3.7)\n",
            "Requirement already satisfied: google-auth-oauthlib<0.5,>=0.4.1 in /usr/local/lib/python3.7/dist-packages (from tensorboard<2.10,>=2.9->tensorflow-gpu) (0.4.6)\n",
            "Requirement already satisfied: google-auth<3,>=1.6.3 in /usr/local/lib/python3.7/dist-packages (from tensorboard<2.10,>=2.9->tensorflow-gpu) (1.35.0)\n",
            "Requirement already satisfied: cachetools<5.0,>=2.0.0 in /usr/local/lib/python3.7/dist-packages (from google-auth<3,>=1.6.3->tensorboard<2.10,>=2.9->tensorflow-gpu) (4.2.4)\n",
            "Requirement already satisfied: rsa<5,>=3.1.4 in /usr/local/lib/python3.7/dist-packages (from google-auth<3,>=1.6.3->tensorboard<2.10,>=2.9->tensorflow-gpu) (4.8)\n",
            "Requirement already satisfied: pyasn1-modules>=0.2.1 in /usr/local/lib/python3.7/dist-packages (from google-auth<3,>=1.6.3->tensorboard<2.10,>=2.9->tensorflow-gpu) (0.2.8)\n",
            "Requirement already satisfied: requests-oauthlib>=0.7.0 in /usr/local/lib/python3.7/dist-packages (from google-auth-oauthlib<0.5,>=0.4.1->tensorboard<2.10,>=2.9->tensorflow-gpu) (1.3.1)\n",
            "Requirement already satisfied: importlib-metadata>=4.4 in /usr/local/lib/python3.7/dist-packages (from markdown>=2.6.8->tensorboard<2.10,>=2.9->tensorflow-gpu) (4.12.0)\n",
            "Requirement already satisfied: zipp>=0.5 in /usr/local/lib/python3.7/dist-packages (from importlib-metadata>=4.4->markdown>=2.6.8->tensorboard<2.10,>=2.9->tensorflow-gpu) (3.8.0)\n",
            "Requirement already satisfied: pyasn1<0.5.0,>=0.4.6 in /usr/local/lib/python3.7/dist-packages (from pyasn1-modules>=0.2.1->google-auth<3,>=1.6.3->tensorboard<2.10,>=2.9->tensorflow-gpu) (0.4.8)\n",
            "Requirement already satisfied: certifi>=2017.4.17 in /usr/local/lib/python3.7/dist-packages (from requests<3,>=2.21.0->tensorboard<2.10,>=2.9->tensorflow-gpu) (2022.6.15)\n",
            "Requirement already satisfied: chardet<4,>=3.0.2 in /usr/local/lib/python3.7/dist-packages (from requests<3,>=2.21.0->tensorboard<2.10,>=2.9->tensorflow-gpu) (3.0.4)\n",
            "Requirement already satisfied: urllib3!=1.25.0,!=1.25.1,<1.26,>=1.21.1 in /usr/local/lib/python3.7/dist-packages (from requests<3,>=2.21.0->tensorboard<2.10,>=2.9->tensorflow-gpu) (1.24.3)\n",
            "Requirement already satisfied: idna<3,>=2.5 in /usr/local/lib/python3.7/dist-packages (from requests<3,>=2.21.0->tensorboard<2.10,>=2.9->tensorflow-gpu) (2.10)\n",
            "Requirement already satisfied: oauthlib>=3.0.0 in /usr/local/lib/python3.7/dist-packages (from requests-oauthlib>=0.7.0->google-auth-oauthlib<0.5,>=0.4.1->tensorboard<2.10,>=2.9->tensorflow-gpu) (3.2.0)\n",
            "Requirement already satisfied: pyparsing!=3.0.5,>=2.0.2 in /usr/local/lib/python3.7/dist-packages (from packaging->tensorflow-gpu) (3.0.9)\n",
            "Installing collected packages: tensorflow-estimator, tensorboard, keras, gast, flatbuffers, tensorflow-gpu\n",
            "  Attempting uninstall: tensorflow-estimator\n",
            "    Found existing installation: tensorflow-estimator 2.8.0\n",
            "    Uninstalling tensorflow-estimator-2.8.0:\n",
            "      Successfully uninstalled tensorflow-estimator-2.8.0\n",
            "  Attempting uninstall: tensorboard\n",
            "    Found existing installation: tensorboard 2.8.0\n",
            "    Uninstalling tensorboard-2.8.0:\n",
            "      Successfully uninstalled tensorboard-2.8.0\n",
            "  Attempting uninstall: keras\n",
            "    Found existing installation: keras 2.8.0\n",
            "    Uninstalling keras-2.8.0:\n",
            "      Successfully uninstalled keras-2.8.0\n",
            "  Attempting uninstall: gast\n",
            "    Found existing installation: gast 0.5.3\n",
            "    Uninstalling gast-0.5.3:\n",
            "      Successfully uninstalled gast-0.5.3\n",
            "  Attempting uninstall: flatbuffers\n",
            "    Found existing installation: flatbuffers 2.0\n",
            "    Uninstalling flatbuffers-2.0:\n",
            "      Successfully uninstalled flatbuffers-2.0\n",
            "\u001b[31mERROR: pip's dependency resolver does not currently take into account all the packages that are installed. This behaviour is the source of the following dependency conflicts.\n",
            "tensorflow 2.8.2+zzzcolab20220527125636 requires keras<2.9,>=2.8.0rc0, but you have keras 2.9.0 which is incompatible.\n",
            "tensorflow 2.8.2+zzzcolab20220527125636 requires tensorboard<2.9,>=2.8, but you have tensorboard 2.9.1 which is incompatible.\n",
            "tensorflow 2.8.2+zzzcolab20220527125636 requires tensorflow-estimator<2.9,>=2.8, but you have tensorflow-estimator 2.9.0 which is incompatible.\u001b[0m\n",
            "Successfully installed flatbuffers-1.12 gast-0.4.0 keras-2.9.0 tensorboard-2.9.1 tensorflow-estimator-2.9.0 tensorflow-gpu-2.9.1\n"
          ]
        }
      ],
      "source": [
        "!pip install tensorflow-gpu"
      ]
    },
    {
      "cell_type": "code",
      "source": [
        "import tensorflow as tf\n",
        "print(tf.__version__)"
      ],
      "metadata": {
        "colab": {
          "base_uri": "https://localhost:8080/"
        },
        "id": "yZ5hceiMAX7n",
        "outputId": "aa224aa9-3cd9-423e-c76d-cdfae6bef7a1"
      },
      "execution_count": 3,
      "outputs": [
        {
          "output_type": "stream",
          "name": "stdout",
          "text": [
            "2.9.1\n"
          ]
        }
      ]
    },
    {
      "cell_type": "code",
      "execution_count": 4,
      "metadata": {
        "id": "k4nKifUl0XGC"
      },
      "outputs": [],
      "source": [
        "##tensorflow >2.0\n",
        "from tensorflow.keras.preprocessing.text import one_hot"
      ]
    },
    {
      "cell_type": "code",
      "source": [
        ""
      ],
      "metadata": {
        "id": "hADTdqZTAUfS"
      },
      "execution_count": 4,
      "outputs": []
    },
    {
      "cell_type": "code",
      "execution_count": 5,
      "metadata": {
        "id": "Fu9PuYeu0XGD"
      },
      "outputs": [],
      "source": [
        "### sentences\n",
        "sent=[  'the glass of milk',\n",
        "     'the glass of juice',\n",
        "     'the cup of tea',\n",
        "    'I am a good boy',\n",
        "     'I am a good developer',\n",
        "     'understand the meaning of words',\n",
        "     'your videos are good']"
      ]
    },
    {
      "cell_type": "code",
      "execution_count": 6,
      "metadata": {
        "colab": {
          "base_uri": "https://localhost:8080/"
        },
        "id": "x5d1D3_20XGD",
        "outputId": "e86ac8a7-df7e-4388-b67b-68d6bbe6a0c3"
      },
      "outputs": [
        {
          "output_type": "execute_result",
          "data": {
            "text/plain": [
              "['the glass of milk',\n",
              " 'the glass of juice',\n",
              " 'the cup of tea',\n",
              " 'I am a good boy',\n",
              " 'I am a good developer',\n",
              " 'understand the meaning of words',\n",
              " 'your videos are good']"
            ]
          },
          "metadata": {},
          "execution_count": 6
        }
      ],
      "source": [
        "sent"
      ]
    },
    {
      "cell_type": "code",
      "execution_count": 7,
      "metadata": {
        "id": "tjnXIn3B0XGE"
      },
      "outputs": [],
      "source": [
        "### Vocabulary size\n",
        "voc_size=500"
      ]
    },
    {
      "cell_type": "markdown",
      "metadata": {
        "id": "-vQOdeKk0XGE"
      },
      "source": [
        "#### One Hot Representation"
      ]
    },
    {
      "cell_type": "code",
      "execution_count": 8,
      "metadata": {
        "colab": {
          "base_uri": "https://localhost:8080/"
        },
        "id": "gojfZpAW0XGE",
        "outputId": "b0155eea-21a9-48e9-def0-eeabf012df90"
      },
      "outputs": [
        {
          "output_type": "stream",
          "name": "stdout",
          "text": [
            "[[395, 158, 211, 459], [395, 158, 211, 403], [395, 5, 211, 186], [362, 444, 193, 294, 196], [362, 444, 193, 294, 385], [333, 395, 345, 211, 392], [344, 491, 104, 294]]\n"
          ]
        }
      ],
      "source": [
        "onehot_repr=[one_hot(words,voc_size)for words in sent] \n",
        "print(onehot_repr)"
      ]
    },
    {
      "cell_type": "markdown",
      "metadata": {
        "id": "eYG267x40XGF"
      },
      "source": [
        "### Word Embedding Represntation"
      ]
    },
    {
      "cell_type": "code",
      "execution_count": 9,
      "metadata": {
        "id": "wpqPm0tb0XGF"
      },
      "outputs": [],
      "source": [
        "from tensorflow.keras.layers import Embedding\n",
        "from tensorflow.keras.preprocessing.sequence import pad_sequences\n",
        "from tensorflow.keras.models import Sequential"
      ]
    },
    {
      "cell_type": "code",
      "execution_count": 10,
      "metadata": {
        "id": "Rov3GTM00XGG"
      },
      "outputs": [],
      "source": [
        "import numpy as np"
      ]
    },
    {
      "cell_type": "code",
      "execution_count": 11,
      "metadata": {
        "colab": {
          "base_uri": "https://localhost:8080/"
        },
        "id": "8fQLPw6p0XGG",
        "outputId": "d40ee030-d0b9-4acc-ea57-9910febd96aa"
      },
      "outputs": [
        {
          "output_type": "stream",
          "name": "stdout",
          "text": [
            "[[  0   0   0   0 395 158 211 459]\n",
            " [  0   0   0   0 395 158 211 403]\n",
            " [  0   0   0   0 395   5 211 186]\n",
            " [  0   0   0 362 444 193 294 196]\n",
            " [  0   0   0 362 444 193 294 385]\n",
            " [  0   0   0 333 395 345 211 392]\n",
            " [  0   0   0   0 344 491 104 294]]\n"
          ]
        }
      ],
      "source": [
        "## pre padding\n",
        "sent_length=8\n",
        "embedded_docs=pad_sequences(onehot_repr,padding='pre',maxlen=sent_length)\n",
        "print(embedded_docs)"
      ]
    },
    {
      "cell_type": "code",
      "execution_count": 12,
      "metadata": {
        "id": "yjQqBYac0XGG"
      },
      "outputs": [],
      "source": [
        "## 10 feature dimesnions\n",
        "dim=10\n"
      ]
    },
    {
      "cell_type": "code",
      "execution_count": 13,
      "metadata": {
        "id": "ozC-TXrt0XGG"
      },
      "outputs": [],
      "source": [
        "model=Sequential()\n",
        "model.add(Embedding(voc_size,10,input_length=sent_length))\n",
        "model.compile('adam','mse')"
      ]
    },
    {
      "cell_type": "code",
      "execution_count": 14,
      "metadata": {
        "colab": {
          "base_uri": "https://localhost:8080/"
        },
        "id": "tMNvq-Ji0XGH",
        "outputId": "04dd9dd3-5d14-4e03-f6d3-cc2306a0f7de"
      },
      "outputs": [
        {
          "output_type": "stream",
          "name": "stdout",
          "text": [
            "Model: \"sequential\"\n",
            "_________________________________________________________________\n",
            " Layer (type)                Output Shape              Param #   \n",
            "=================================================================\n",
            " embedding (Embedding)       (None, 8, 10)             5000      \n",
            "                                                                 \n",
            "=================================================================\n",
            "Total params: 5,000\n",
            "Trainable params: 5,000\n",
            "Non-trainable params: 0\n",
            "_________________________________________________________________\n"
          ]
        }
      ],
      "source": [
        "model.summary()"
      ]
    },
    {
      "cell_type": "code",
      "source": [
        "##'the glass of milk',\n",
        "embedded_docs[0]"
      ],
      "metadata": {
        "colab": {
          "base_uri": "https://localhost:8080/"
        },
        "id": "FC4Ess_FEcb3",
        "outputId": "e8db498d-f8e1-4763-98de-6231c862db57"
      },
      "execution_count": 15,
      "outputs": [
        {
          "output_type": "execute_result",
          "data": {
            "text/plain": [
              "array([  0,   0,   0,   0, 395, 158, 211, 459], dtype=int32)"
            ]
          },
          "metadata": {},
          "execution_count": 15
        }
      ]
    },
    {
      "cell_type": "code",
      "source": [
        "model.predict(embedded_docs[0])"
      ],
      "metadata": {
        "colab": {
          "base_uri": "https://localhost:8080/"
        },
        "id": "bRqEvMBYEZUS",
        "outputId": "8cab1f66-40be-4077-fa57-61c9baf1ec7b"
      },
      "execution_count": 16,
      "outputs": [
        {
          "output_type": "stream",
          "name": "stdout",
          "text": [
            "WARNING:tensorflow:Model was constructed with shape (None, 8) for input KerasTensor(type_spec=TensorSpec(shape=(None, 8), dtype=tf.float32, name='embedding_input'), name='embedding_input', description=\"created by layer 'embedding_input'\"), but it was called on an input with incompatible shape (None,).\n",
            "1/1 [==============================] - 0s 73ms/step\n"
          ]
        },
        {
          "output_type": "execute_result",
          "data": {
            "text/plain": [
              "array([[-0.01791962,  0.02841303, -0.02305583,  0.02572774, -0.0040531 ,\n",
              "        -0.04357076, -0.04267012, -0.03945643, -0.02268144,  0.03864319],\n",
              "       [-0.01791962,  0.02841303, -0.02305583,  0.02572774, -0.0040531 ,\n",
              "        -0.04357076, -0.04267012, -0.03945643, -0.02268144,  0.03864319],\n",
              "       [-0.01791962,  0.02841303, -0.02305583,  0.02572774, -0.0040531 ,\n",
              "        -0.04357076, -0.04267012, -0.03945643, -0.02268144,  0.03864319],\n",
              "       [-0.01791962,  0.02841303, -0.02305583,  0.02572774, -0.0040531 ,\n",
              "        -0.04357076, -0.04267012, -0.03945643, -0.02268144,  0.03864319],\n",
              "       [ 0.00407823, -0.00976623, -0.04336103,  0.0324139 ,  0.0351989 ,\n",
              "        -0.01978337, -0.03287093, -0.02733984, -0.01718644,  0.01549977],\n",
              "       [-0.01273983,  0.003294  , -0.00844391,  0.02276409,  0.03437206,\n",
              "         0.03252831, -0.04494274,  0.00783353,  0.03872913, -0.04558892],\n",
              "       [ 0.04533176, -0.02586664, -0.00403938,  0.02101089, -0.00255914,\n",
              "         0.00538317, -0.02752211,  0.01933286,  0.03053052,  0.00376844],\n",
              "       [-0.03672664, -0.02508453,  0.03800255, -0.00085698, -0.04976064,\n",
              "         0.04740309, -0.04865816,  0.02098376,  0.02056695,  0.01386999]],\n",
              "      dtype=float32)"
            ]
          },
          "metadata": {},
          "execution_count": 16
        }
      ]
    },
    {
      "cell_type": "code",
      "execution_count": 17,
      "metadata": {
        "colab": {
          "base_uri": "https://localhost:8080/"
        },
        "id": "kzKP69gx0XGH",
        "outputId": "5d742d5f-3d0b-40a7-ace5-23d2b9bfca8a"
      },
      "outputs": [
        {
          "output_type": "stream",
          "name": "stdout",
          "text": [
            "1/1 [==============================] - 0s 35ms/step\n",
            "[[[-0.01791962  0.02841303 -0.02305583  0.02572774 -0.0040531\n",
            "   -0.04357076 -0.04267012 -0.03945643 -0.02268144  0.03864319]\n",
            "  [-0.01791962  0.02841303 -0.02305583  0.02572774 -0.0040531\n",
            "   -0.04357076 -0.04267012 -0.03945643 -0.02268144  0.03864319]\n",
            "  [-0.01791962  0.02841303 -0.02305583  0.02572774 -0.0040531\n",
            "   -0.04357076 -0.04267012 -0.03945643 -0.02268144  0.03864319]\n",
            "  [-0.01791962  0.02841303 -0.02305583  0.02572774 -0.0040531\n",
            "   -0.04357076 -0.04267012 -0.03945643 -0.02268144  0.03864319]\n",
            "  [ 0.00407823 -0.00976623 -0.04336103  0.0324139   0.0351989\n",
            "   -0.01978337 -0.03287093 -0.02733984 -0.01718644  0.01549977]\n",
            "  [-0.01273983  0.003294   -0.00844391  0.02276409  0.03437206\n",
            "    0.03252831 -0.04494274  0.00783353  0.03872913 -0.04558892]\n",
            "  [ 0.04533176 -0.02586664 -0.00403938  0.02101089 -0.00255914\n",
            "    0.00538317 -0.02752211  0.01933286  0.03053052  0.00376844]\n",
            "  [-0.03672664 -0.02508453  0.03800255 -0.00085698 -0.04976064\n",
            "    0.04740309 -0.04865816  0.02098376  0.02056695  0.01386999]]\n",
            "\n",
            " [[-0.01791962  0.02841303 -0.02305583  0.02572774 -0.0040531\n",
            "   -0.04357076 -0.04267012 -0.03945643 -0.02268144  0.03864319]\n",
            "  [-0.01791962  0.02841303 -0.02305583  0.02572774 -0.0040531\n",
            "   -0.04357076 -0.04267012 -0.03945643 -0.02268144  0.03864319]\n",
            "  [-0.01791962  0.02841303 -0.02305583  0.02572774 -0.0040531\n",
            "   -0.04357076 -0.04267012 -0.03945643 -0.02268144  0.03864319]\n",
            "  [-0.01791962  0.02841303 -0.02305583  0.02572774 -0.0040531\n",
            "   -0.04357076 -0.04267012 -0.03945643 -0.02268144  0.03864319]\n",
            "  [ 0.00407823 -0.00976623 -0.04336103  0.0324139   0.0351989\n",
            "   -0.01978337 -0.03287093 -0.02733984 -0.01718644  0.01549977]\n",
            "  [-0.01273983  0.003294   -0.00844391  0.02276409  0.03437206\n",
            "    0.03252831 -0.04494274  0.00783353  0.03872913 -0.04558892]\n",
            "  [ 0.04533176 -0.02586664 -0.00403938  0.02101089 -0.00255914\n",
            "    0.00538317 -0.02752211  0.01933286  0.03053052  0.00376844]\n",
            "  [-0.04936782 -0.01115469  0.0467701   0.04999748 -0.00521492\n",
            "    0.00770508  0.04355801  0.03994627  0.02414271 -0.01363999]]\n",
            "\n",
            " [[-0.01791962  0.02841303 -0.02305583  0.02572774 -0.0040531\n",
            "   -0.04357076 -0.04267012 -0.03945643 -0.02268144  0.03864319]\n",
            "  [-0.01791962  0.02841303 -0.02305583  0.02572774 -0.0040531\n",
            "   -0.04357076 -0.04267012 -0.03945643 -0.02268144  0.03864319]\n",
            "  [-0.01791962  0.02841303 -0.02305583  0.02572774 -0.0040531\n",
            "   -0.04357076 -0.04267012 -0.03945643 -0.02268144  0.03864319]\n",
            "  [-0.01791962  0.02841303 -0.02305583  0.02572774 -0.0040531\n",
            "   -0.04357076 -0.04267012 -0.03945643 -0.02268144  0.03864319]\n",
            "  [ 0.00407823 -0.00976623 -0.04336103  0.0324139   0.0351989\n",
            "   -0.01978337 -0.03287093 -0.02733984 -0.01718644  0.01549977]\n",
            "  [-0.02961195  0.00552354  0.03067518 -0.03874979  0.03454841\n",
            "   -0.00248666 -0.01529098 -0.00305736  0.02345327 -0.00776718]\n",
            "  [ 0.04533176 -0.02586664 -0.00403938  0.02101089 -0.00255914\n",
            "    0.00538317 -0.02752211  0.01933286  0.03053052  0.00376844]\n",
            "  [-0.00325329 -0.0471674  -0.02436943 -0.03062154 -0.04116641\n",
            "   -0.04044627  0.02213054 -0.02259306  0.02051822 -0.04862138]]\n",
            "\n",
            " [[-0.01791962  0.02841303 -0.02305583  0.02572774 -0.0040531\n",
            "   -0.04357076 -0.04267012 -0.03945643 -0.02268144  0.03864319]\n",
            "  [-0.01791962  0.02841303 -0.02305583  0.02572774 -0.0040531\n",
            "   -0.04357076 -0.04267012 -0.03945643 -0.02268144  0.03864319]\n",
            "  [-0.01791962  0.02841303 -0.02305583  0.02572774 -0.0040531\n",
            "   -0.04357076 -0.04267012 -0.03945643 -0.02268144  0.03864319]\n",
            "  [ 0.04994199 -0.00476875  0.04885316 -0.00416216 -0.02577426\n",
            "   -0.02158853 -0.0488202  -0.02908998 -0.0441489  -0.03571916]\n",
            "  [ 0.02374012  0.04506463 -0.04843197 -0.01344876  0.00816599\n",
            "    0.04738224  0.01711496  0.04020966 -0.01714804 -0.02335602]\n",
            "  [-0.02406516 -0.01532404  0.04484912 -0.00559537 -0.00021986\n",
            "   -0.03602706  0.01363404  0.03112293 -0.01050124  0.01395032]\n",
            "  [-0.03379031  0.04831897  0.04964817 -0.00553074  0.00196618\n",
            "    0.03124369 -0.02840709  0.01053864  0.01026685  0.01972238]\n",
            "  [-0.00100548  0.03362794  0.00578211  0.04576023  0.03852207\n",
            "    0.0140094   0.02118397  0.01123888  0.0432485  -0.04157924]]\n",
            "\n",
            " [[-0.01791962  0.02841303 -0.02305583  0.02572774 -0.0040531\n",
            "   -0.04357076 -0.04267012 -0.03945643 -0.02268144  0.03864319]\n",
            "  [-0.01791962  0.02841303 -0.02305583  0.02572774 -0.0040531\n",
            "   -0.04357076 -0.04267012 -0.03945643 -0.02268144  0.03864319]\n",
            "  [-0.01791962  0.02841303 -0.02305583  0.02572774 -0.0040531\n",
            "   -0.04357076 -0.04267012 -0.03945643 -0.02268144  0.03864319]\n",
            "  [ 0.04994199 -0.00476875  0.04885316 -0.00416216 -0.02577426\n",
            "   -0.02158853 -0.0488202  -0.02908998 -0.0441489  -0.03571916]\n",
            "  [ 0.02374012  0.04506463 -0.04843197 -0.01344876  0.00816599\n",
            "    0.04738224  0.01711496  0.04020966 -0.01714804 -0.02335602]\n",
            "  [-0.02406516 -0.01532404  0.04484912 -0.00559537 -0.00021986\n",
            "   -0.03602706  0.01363404  0.03112293 -0.01050124  0.01395032]\n",
            "  [-0.03379031  0.04831897  0.04964817 -0.00553074  0.00196618\n",
            "    0.03124369 -0.02840709  0.01053864  0.01026685  0.01972238]\n",
            "  [ 0.04382172  0.00609386  0.01419766  0.00958719  0.00268974\n",
            "   -0.03290323  0.00924516  0.02031566  0.03969346  0.00111865]]\n",
            "\n",
            " [[-0.01791962  0.02841303 -0.02305583  0.02572774 -0.0040531\n",
            "   -0.04357076 -0.04267012 -0.03945643 -0.02268144  0.03864319]\n",
            "  [-0.01791962  0.02841303 -0.02305583  0.02572774 -0.0040531\n",
            "   -0.04357076 -0.04267012 -0.03945643 -0.02268144  0.03864319]\n",
            "  [-0.01791962  0.02841303 -0.02305583  0.02572774 -0.0040531\n",
            "   -0.04357076 -0.04267012 -0.03945643 -0.02268144  0.03864319]\n",
            "  [-0.03019626  0.00802274 -0.00312303  0.02400627  0.04055293\n",
            "    0.01140578  0.02061592 -0.03197824  0.02877868  0.00088555]\n",
            "  [ 0.00407823 -0.00976623 -0.04336103  0.0324139   0.0351989\n",
            "   -0.01978337 -0.03287093 -0.02733984 -0.01718644  0.01549977]\n",
            "  [-0.01629888 -0.01606326  0.00597783 -0.04117662  0.04339721\n",
            "    0.01833807 -0.04540839 -0.00268569 -0.00691956 -0.02064369]\n",
            "  [ 0.04533176 -0.02586664 -0.00403938  0.02101089 -0.00255914\n",
            "    0.00538317 -0.02752211  0.01933286  0.03053052  0.00376844]\n",
            "  [-0.0058127   0.01158004 -0.03637017  0.02363496 -0.04252208\n",
            "   -0.02623169 -0.01852884 -0.02054747 -0.02268186  0.04059943]]\n",
            "\n",
            " [[-0.01791962  0.02841303 -0.02305583  0.02572774 -0.0040531\n",
            "   -0.04357076 -0.04267012 -0.03945643 -0.02268144  0.03864319]\n",
            "  [-0.01791962  0.02841303 -0.02305583  0.02572774 -0.0040531\n",
            "   -0.04357076 -0.04267012 -0.03945643 -0.02268144  0.03864319]\n",
            "  [-0.01791962  0.02841303 -0.02305583  0.02572774 -0.0040531\n",
            "   -0.04357076 -0.04267012 -0.03945643 -0.02268144  0.03864319]\n",
            "  [-0.01791962  0.02841303 -0.02305583  0.02572774 -0.0040531\n",
            "   -0.04357076 -0.04267012 -0.03945643 -0.02268144  0.03864319]\n",
            "  [ 0.01883329  0.03560087 -0.0266618   0.01940738 -0.0268518\n",
            "   -0.04042564  0.03617854  0.02119983  0.02322786 -0.04081645]\n",
            "  [-0.01437813 -0.00837016 -0.01698907  0.04343352 -0.01849591\n",
            "   -0.04046557 -0.04463116  0.03425989 -0.04512274 -0.04285448]\n",
            "  [-0.00604182  0.00777898  0.03660155  0.03085205 -0.04912369\n",
            "    0.0415257   0.00075123  0.04246787 -0.00462036  0.02671945]\n",
            "  [-0.03379031  0.04831897  0.04964817 -0.00553074  0.00196618\n",
            "    0.03124369 -0.02840709  0.01053864  0.01026685  0.01972238]]]\n"
          ]
        }
      ],
      "source": [
        "print(model.predict(embedded_docs))"
      ]
    },
    {
      "cell_type": "code",
      "execution_count": 18,
      "metadata": {
        "id": "JuUxfk7d0XGH",
        "outputId": "970c2482-4f7b-47a6-ffc3-4ca5ef847f6e",
        "colab": {
          "base_uri": "https://localhost:8080/"
        }
      },
      "outputs": [
        {
          "output_type": "execute_result",
          "data": {
            "text/plain": [
              "array([  0,   0,   0,   0, 395, 158, 211, 459], dtype=int32)"
            ]
          },
          "metadata": {},
          "execution_count": 18
        }
      ],
      "source": [
        "embedded_docs[0]"
      ]
    },
    {
      "cell_type": "code",
      "execution_count": 19,
      "metadata": {
        "id": "6JJ_zD0u0XGH",
        "outputId": "cd0d53d5-8005-49ee-bc0b-8ea265e43d67",
        "colab": {
          "base_uri": "https://localhost:8080/"
        }
      },
      "outputs": [
        {
          "output_type": "stream",
          "name": "stdout",
          "text": [
            "1/1 [==============================] - 0s 17ms/step\n",
            "[[-0.01791962  0.02841303 -0.02305583  0.02572774 -0.0040531  -0.04357076\n",
            "  -0.04267012 -0.03945643 -0.02268144  0.03864319]\n",
            " [-0.01791962  0.02841303 -0.02305583  0.02572774 -0.0040531  -0.04357076\n",
            "  -0.04267012 -0.03945643 -0.02268144  0.03864319]\n",
            " [-0.01791962  0.02841303 -0.02305583  0.02572774 -0.0040531  -0.04357076\n",
            "  -0.04267012 -0.03945643 -0.02268144  0.03864319]\n",
            " [-0.01791962  0.02841303 -0.02305583  0.02572774 -0.0040531  -0.04357076\n",
            "  -0.04267012 -0.03945643 -0.02268144  0.03864319]\n",
            " [ 0.00407823 -0.00976623 -0.04336103  0.0324139   0.0351989  -0.01978337\n",
            "  -0.03287093 -0.02733984 -0.01718644  0.01549977]\n",
            " [-0.01273983  0.003294   -0.00844391  0.02276409  0.03437206  0.03252831\n",
            "  -0.04494274  0.00783353  0.03872913 -0.04558892]\n",
            " [ 0.04533176 -0.02586664 -0.00403938  0.02101089 -0.00255914  0.00538317\n",
            "  -0.02752211  0.01933286  0.03053052  0.00376844]\n",
            " [-0.03672664 -0.02508453  0.03800255 -0.00085698 -0.04976064  0.04740309\n",
            "  -0.04865816  0.02098376  0.02056695  0.01386999]]\n"
          ]
        }
      ],
      "source": [
        "print(model.predict(embedded_docs)[0])"
      ]
    },
    {
      "cell_type": "code",
      "execution_count": 20,
      "metadata": {
        "id": "8OMu3iAz0XGH"
      },
      "outputs": [],
      "source": [
        "### Assignment\n",
        "\n",
        "sent=[\"The world is a better place\",\n",
        "      \"Marvel series is my favourite movie\",\n",
        "      \"I like DC movies\",\n",
        "      \"the cat is eating the food\",\n",
        "      \"Tom and Jerry is my favourite movie\",\n",
        "      \"Python is my favourite programming language\"\n",
        "      ]"
      ]
    }
  ],
  "metadata": {
    "kernelspec": {
      "display_name": "Python 3",
      "language": "python",
      "name": "python3"
    },
    "language_info": {
      "codemirror_mode": {
        "name": "ipython",
        "version": 3
      },
      "file_extension": ".py",
      "mimetype": "text/x-python",
      "name": "python",
      "nbconvert_exporter": "python",
      "pygments_lexer": "ipython3",
      "version": "3.7.4"
    },
    "colab": {
      "name": "Word embedding Techniques.ipynb",
      "provenance": [],
      "collapsed_sections": [],
      "include_colab_link": true
    },
    "accelerator": "GPU",
    "gpuClass": "standard"
  },
  "nbformat": 4,
  "nbformat_minor": 0
}